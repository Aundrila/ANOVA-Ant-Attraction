{
 "cells": [
  {
   "cell_type": "code",
   "execution_count": 1,
   "id": "87ebea9a-efd9-48ce-804b-83e5bb0d9d4a",
   "metadata": {},
   "outputs": [],
   "source": [
    "import pandas as pd\n",
    "from scipy.stats import f_oneway\n",
    "from statsmodels.stats.multicomp import pairwise_tukeyhsd\n",
    "from scipy.stats import shapiro\n",
    "from scipy.stats import chi2_contingency\n",
    "import statsmodels.api as sm\n",
    "from statsmodels.formula.api import ols\n",
    "from statsmodels.stats.multicomp import pairwise_tukeyhsd\n"
   ]
  },
  {
   "cell_type": "code",
   "execution_count": 2,
   "id": "93ec7818-bd61-459c-bb6d-1b94e982dbec",
   "metadata": {},
   "outputs": [],
   "source": [
    "df = pd.read_spss('Sandwich.sav')"
   ]
  },
  {
   "cell_type": "code",
   "execution_count": 7,
   "id": "22cd05d3-6a56-4856-8977-cd9a2e9f4b17",
   "metadata": {},
   "outputs": [
    {
     "data": {
      "text/html": [
       "<div>\n",
       "<style scoped>\n",
       "    .dataframe tbody tr th:only-of-type {\n",
       "        vertical-align: middle;\n",
       "    }\n",
       "\n",
       "    .dataframe tbody tr th {\n",
       "        vertical-align: top;\n",
       "    }\n",
       "\n",
       "    .dataframe thead th {\n",
       "        text-align: right;\n",
       "    }\n",
       "</style>\n",
       "<table border=\"1\" class=\"dataframe\">\n",
       "  <thead>\n",
       "    <tr style=\"text-align: right;\">\n",
       "      <th></th>\n",
       "      <th>Ameisen</th>\n",
       "      <th>Brot</th>\n",
       "      <th>Belag</th>\n",
       "      <th>Butter</th>\n",
       "    </tr>\n",
       "  </thead>\n",
       "  <tbody>\n",
       "    <tr>\n",
       "      <th>0</th>\n",
       "      <td>34.0</td>\n",
       "      <td>Vollkorn</td>\n",
       "      <td>Schinken-Essiggurken</td>\n",
       "      <td>nein</td>\n",
       "    </tr>\n",
       "    <tr>\n",
       "      <th>1</th>\n",
       "      <td>47.0</td>\n",
       "      <td>Mehrkorn</td>\n",
       "      <td>Erdnussbutter</td>\n",
       "      <td>ja</td>\n",
       "    </tr>\n",
       "    <tr>\n",
       "      <th>2</th>\n",
       "      <td>67.0</td>\n",
       "      <td>Roggen</td>\n",
       "      <td>Schinken-Essiggurken</td>\n",
       "      <td>ja</td>\n",
       "    </tr>\n",
       "    <tr>\n",
       "      <th>3</th>\n",
       "      <td>63.0</td>\n",
       "      <td>Mehrkorn</td>\n",
       "      <td>Schinken-Essiggurken</td>\n",
       "      <td>ja</td>\n",
       "    </tr>\n",
       "    <tr>\n",
       "      <th>4</th>\n",
       "      <td>65.0</td>\n",
       "      <td>Vollkorn</td>\n",
       "      <td>Schinken-Essiggurken</td>\n",
       "      <td>nein</td>\n",
       "    </tr>\n",
       "    <tr>\n",
       "      <th>5</th>\n",
       "      <td>58.0</td>\n",
       "      <td>Vollkorn</td>\n",
       "      <td>Schinken-Essiggurken</td>\n",
       "      <td>ja</td>\n",
       "    </tr>\n",
       "    <tr>\n",
       "      <th>6</th>\n",
       "      <td>51.0</td>\n",
       "      <td>Weiß</td>\n",
       "      <td>Erdnussbutter</td>\n",
       "      <td>ja</td>\n",
       "    </tr>\n",
       "    <tr>\n",
       "      <th>7</th>\n",
       "      <td>59.0</td>\n",
       "      <td>Mehrkorn</td>\n",
       "      <td>Schinken-Essiggurken</td>\n",
       "      <td>nein</td>\n",
       "    </tr>\n",
       "    <tr>\n",
       "      <th>8</th>\n",
       "      <td>65.0</td>\n",
       "      <td>Roggen</td>\n",
       "      <td>Schinken-Essiggurken</td>\n",
       "      <td>ja</td>\n",
       "    </tr>\n",
       "    <tr>\n",
       "      <th>9</th>\n",
       "      <td>18.0</td>\n",
       "      <td>Roggen</td>\n",
       "      <td>Hefe-Brotaufstrich</td>\n",
       "      <td>nein</td>\n",
       "    </tr>\n",
       "    <tr>\n",
       "      <th>10</th>\n",
       "      <td>57.0</td>\n",
       "      <td>Weiß</td>\n",
       "      <td>Erdnussbutter</td>\n",
       "      <td>ja</td>\n",
       "    </tr>\n",
       "    <tr>\n",
       "      <th>11</th>\n",
       "      <td>76.0</td>\n",
       "      <td>Mehrkorn</td>\n",
       "      <td>Schinken-Essiggurken</td>\n",
       "      <td>ja</td>\n",
       "    </tr>\n",
       "    <tr>\n",
       "      <th>12</th>\n",
       "      <td>48.0</td>\n",
       "      <td>Weiß</td>\n",
       "      <td>Schinken-Essiggurken</td>\n",
       "      <td>nein</td>\n",
       "    </tr>\n",
       "    <tr>\n",
       "      <th>13</th>\n",
       "      <td>31.0</td>\n",
       "      <td>Roggen</td>\n",
       "      <td>Hefe-Brotaufstrich</td>\n",
       "      <td>nein</td>\n",
       "    </tr>\n",
       "    <tr>\n",
       "      <th>14</th>\n",
       "      <td>26.0</td>\n",
       "      <td>Mehrkorn</td>\n",
       "      <td>Hefe-Brotaufstrich</td>\n",
       "      <td>ja</td>\n",
       "    </tr>\n",
       "  </tbody>\n",
       "</table>\n",
       "</div>"
      ],
      "text/plain": [
       "    Ameisen      Brot                 Belag Butter\n",
       "0      34.0  Vollkorn  Schinken-Essiggurken   nein\n",
       "1      47.0  Mehrkorn         Erdnussbutter     ja\n",
       "2      67.0    Roggen  Schinken-Essiggurken     ja\n",
       "3      63.0  Mehrkorn  Schinken-Essiggurken     ja\n",
       "4      65.0  Vollkorn  Schinken-Essiggurken   nein\n",
       "5      58.0  Vollkorn  Schinken-Essiggurken     ja\n",
       "6      51.0      Weiß         Erdnussbutter     ja\n",
       "7      59.0  Mehrkorn  Schinken-Essiggurken   nein\n",
       "8      65.0    Roggen  Schinken-Essiggurken     ja\n",
       "9      18.0    Roggen    Hefe-Brotaufstrich   nein\n",
       "10     57.0      Weiß         Erdnussbutter     ja\n",
       "11     76.0  Mehrkorn  Schinken-Essiggurken     ja\n",
       "12     48.0      Weiß  Schinken-Essiggurken   nein\n",
       "13     31.0    Roggen    Hefe-Brotaufstrich   nein\n",
       "14     26.0  Mehrkorn    Hefe-Brotaufstrich     ja"
      ]
     },
     "execution_count": 7,
     "metadata": {},
     "output_type": "execute_result"
    }
   ],
   "source": [
    "df.head(15)"
   ]
  },
  {
   "cell_type": "code",
   "execution_count": 4,
   "id": "29b5d924-dd7a-405d-9cde-cfa0e7bd4491",
   "metadata": {},
   "outputs": [
    {
     "name": "stdout",
     "output_type": "stream",
     "text": [
      "<class 'pandas.core.frame.DataFrame'>\n",
      "RangeIndex: 48 entries, 0 to 47\n",
      "Data columns (total 4 columns):\n",
      " #   Column   Non-Null Count  Dtype   \n",
      "---  ------   --------------  -----   \n",
      " 0   Ameisen  48 non-null     float64 \n",
      " 1   Brot     48 non-null     category\n",
      " 2   Belag    48 non-null     category\n",
      " 3   Butter   48 non-null     category\n",
      "dtypes: category(3), float64(1)\n",
      "memory usage: 1.1 KB\n"
     ]
    }
   ],
   "source": [
    "df.info()"
   ]
  },
  {
   "cell_type": "code",
   "execution_count": 5,
   "id": "c8cd7539-023a-4d7d-a8c8-36415e94ce86",
   "metadata": {},
   "outputs": [
    {
     "data": {
      "text/html": [
       "<div>\n",
       "<style scoped>\n",
       "    .dataframe tbody tr th:only-of-type {\n",
       "        vertical-align: middle;\n",
       "    }\n",
       "\n",
       "    .dataframe tbody tr th {\n",
       "        vertical-align: top;\n",
       "    }\n",
       "\n",
       "    .dataframe thead th {\n",
       "        text-align: right;\n",
       "    }\n",
       "</style>\n",
       "<table border=\"1\" class=\"dataframe\">\n",
       "  <thead>\n",
       "    <tr style=\"text-align: right;\">\n",
       "      <th></th>\n",
       "      <th>Ameisen</th>\n",
       "    </tr>\n",
       "  </thead>\n",
       "  <tbody>\n",
       "    <tr>\n",
       "      <th>count</th>\n",
       "      <td>48.000000</td>\n",
       "    </tr>\n",
       "    <tr>\n",
       "      <th>mean</th>\n",
       "      <td>43.500000</td>\n",
       "    </tr>\n",
       "    <tr>\n",
       "      <th>std</th>\n",
       "      <td>15.148906</td>\n",
       "    </tr>\n",
       "    <tr>\n",
       "      <th>min</th>\n",
       "      <td>18.000000</td>\n",
       "    </tr>\n",
       "    <tr>\n",
       "      <th>25%</th>\n",
       "      <td>30.500000</td>\n",
       "    </tr>\n",
       "    <tr>\n",
       "      <th>50%</th>\n",
       "      <td>43.000000</td>\n",
       "    </tr>\n",
       "    <tr>\n",
       "      <th>75%</th>\n",
       "      <td>57.000000</td>\n",
       "    </tr>\n",
       "    <tr>\n",
       "      <th>max</th>\n",
       "      <td>76.000000</td>\n",
       "    </tr>\n",
       "  </tbody>\n",
       "</table>\n",
       "</div>"
      ],
      "text/plain": [
       "         Ameisen\n",
       "count  48.000000\n",
       "mean   43.500000\n",
       "std    15.148906\n",
       "min    18.000000\n",
       "25%    30.500000\n",
       "50%    43.000000\n",
       "75%    57.000000\n",
       "max    76.000000"
      ]
     },
     "execution_count": 5,
     "metadata": {},
     "output_type": "execute_result"
    }
   ],
   "source": [
    "df.describe()"
   ]
  },
  {
   "cell_type": "code",
   "execution_count": 65,
   "id": "2c3235c9-7784-4a98-98e0-bc7e063fc992",
   "metadata": {},
   "outputs": [
    {
     "name": "stdout",
     "output_type": "stream",
     "text": [
      "Ameisen    0\n",
      "Brot       0\n",
      "Belag      0\n",
      "Butter     0\n",
      "dtype: int64\n"
     ]
    }
   ],
   "source": [
    "# Check for missing values in the dataset\n",
    "print(df.isnull().sum())"
   ]
  },
  {
   "cell_type": "code",
   "execution_count": 6,
   "id": "ded11352-4a5b-4eee-bbc0-f2381ade6d88",
   "metadata": {},
   "outputs": [
    {
     "data": {
      "text/html": [
       "<div>\n",
       "<style scoped>\n",
       "    .dataframe tbody tr th:only-of-type {\n",
       "        vertical-align: middle;\n",
       "    }\n",
       "\n",
       "    .dataframe tbody tr th {\n",
       "        vertical-align: top;\n",
       "    }\n",
       "\n",
       "    .dataframe thead th {\n",
       "        text-align: right;\n",
       "    }\n",
       "</style>\n",
       "<table border=\"1\" class=\"dataframe\">\n",
       "  <thead>\n",
       "    <tr style=\"text-align: right;\">\n",
       "      <th></th>\n",
       "      <th>Ameisen</th>\n",
       "      <th>Brot</th>\n",
       "      <th>Belag</th>\n",
       "      <th>Butter</th>\n",
       "    </tr>\n",
       "  </thead>\n",
       "  <tbody>\n",
       "    <tr>\n",
       "      <th>0</th>\n",
       "      <td>34.0</td>\n",
       "      <td>Vollkorn</td>\n",
       "      <td>Schinken-Essiggurken</td>\n",
       "      <td>nein</td>\n",
       "    </tr>\n",
       "    <tr>\n",
       "      <th>4</th>\n",
       "      <td>65.0</td>\n",
       "      <td>Vollkorn</td>\n",
       "      <td>Schinken-Essiggurken</td>\n",
       "      <td>nein</td>\n",
       "    </tr>\n",
       "    <tr>\n",
       "      <th>5</th>\n",
       "      <td>58.0</td>\n",
       "      <td>Vollkorn</td>\n",
       "      <td>Schinken-Essiggurken</td>\n",
       "      <td>ja</td>\n",
       "    </tr>\n",
       "    <tr>\n",
       "      <th>16</th>\n",
       "      <td>57.0</td>\n",
       "      <td>Vollkorn</td>\n",
       "      <td>Hefe-Brotaufstrich</td>\n",
       "      <td>ja</td>\n",
       "    </tr>\n",
       "    <tr>\n",
       "      <th>18</th>\n",
       "      <td>21.0</td>\n",
       "      <td>Vollkorn</td>\n",
       "      <td>Hefe-Brotaufstrich</td>\n",
       "      <td>nein</td>\n",
       "    </tr>\n",
       "    <tr>\n",
       "      <th>24</th>\n",
       "      <td>29.0</td>\n",
       "      <td>Vollkorn</td>\n",
       "      <td>Hefe-Brotaufstrich</td>\n",
       "      <td>nein</td>\n",
       "    </tr>\n",
       "    <tr>\n",
       "      <th>27</th>\n",
       "      <td>36.0</td>\n",
       "      <td>Vollkorn</td>\n",
       "      <td>Erdnussbutter</td>\n",
       "      <td>ja</td>\n",
       "    </tr>\n",
       "    <tr>\n",
       "      <th>34</th>\n",
       "      <td>59.0</td>\n",
       "      <td>Vollkorn</td>\n",
       "      <td>Erdnussbutter</td>\n",
       "      <td>nein</td>\n",
       "    </tr>\n",
       "    <tr>\n",
       "      <th>37</th>\n",
       "      <td>47.0</td>\n",
       "      <td>Vollkorn</td>\n",
       "      <td>Erdnussbutter</td>\n",
       "      <td>nein</td>\n",
       "    </tr>\n",
       "    <tr>\n",
       "      <th>39</th>\n",
       "      <td>42.0</td>\n",
       "      <td>Vollkorn</td>\n",
       "      <td>Hefe-Brotaufstrich</td>\n",
       "      <td>ja</td>\n",
       "    </tr>\n",
       "    <tr>\n",
       "      <th>42</th>\n",
       "      <td>41.0</td>\n",
       "      <td>Vollkorn</td>\n",
       "      <td>Schinken-Essiggurken</td>\n",
       "      <td>ja</td>\n",
       "    </tr>\n",
       "    <tr>\n",
       "      <th>47</th>\n",
       "      <td>42.0</td>\n",
       "      <td>Vollkorn</td>\n",
       "      <td>Erdnussbutter</td>\n",
       "      <td>ja</td>\n",
       "    </tr>\n",
       "  </tbody>\n",
       "</table>\n",
       "</div>"
      ],
      "text/plain": [
       "    Ameisen      Brot                 Belag Butter\n",
       "0      34.0  Vollkorn  Schinken-Essiggurken   nein\n",
       "4      65.0  Vollkorn  Schinken-Essiggurken   nein\n",
       "5      58.0  Vollkorn  Schinken-Essiggurken     ja\n",
       "16     57.0  Vollkorn    Hefe-Brotaufstrich     ja\n",
       "18     21.0  Vollkorn    Hefe-Brotaufstrich   nein\n",
       "24     29.0  Vollkorn    Hefe-Brotaufstrich   nein\n",
       "27     36.0  Vollkorn         Erdnussbutter     ja\n",
       "34     59.0  Vollkorn         Erdnussbutter   nein\n",
       "37     47.0  Vollkorn         Erdnussbutter   nein\n",
       "39     42.0  Vollkorn    Hefe-Brotaufstrich     ja\n",
       "42     41.0  Vollkorn  Schinken-Essiggurken     ja\n",
       "47     42.0  Vollkorn         Erdnussbutter     ja"
      ]
     },
     "execution_count": 6,
     "metadata": {},
     "output_type": "execute_result"
    }
   ],
   "source": [
    "df[df[\"Brot\"] == \"Vollkorn\"]"
   ]
  },
  {
   "cell_type": "code",
   "execution_count": 8,
   "id": "c26ea172-ac99-482e-99e8-8df06ef3a212",
   "metadata": {},
   "outputs": [
    {
     "data": {
      "text/html": [
       "<div>\n",
       "<style scoped>\n",
       "    .dataframe tbody tr th:only-of-type {\n",
       "        vertical-align: middle;\n",
       "    }\n",
       "\n",
       "    .dataframe tbody tr th {\n",
       "        vertical-align: top;\n",
       "    }\n",
       "\n",
       "    .dataframe thead th {\n",
       "        text-align: right;\n",
       "    }\n",
       "</style>\n",
       "<table border=\"1\" class=\"dataframe\">\n",
       "  <thead>\n",
       "    <tr style=\"text-align: right;\">\n",
       "      <th></th>\n",
       "      <th>Ameisen</th>\n",
       "      <th>Brot</th>\n",
       "      <th>Belag</th>\n",
       "      <th>Butter</th>\n",
       "    </tr>\n",
       "  </thead>\n",
       "  <tbody>\n",
       "    <tr>\n",
       "      <th>1</th>\n",
       "      <td>47.0</td>\n",
       "      <td>Mehrkorn</td>\n",
       "      <td>Erdnussbutter</td>\n",
       "      <td>ja</td>\n",
       "    </tr>\n",
       "    <tr>\n",
       "      <th>3</th>\n",
       "      <td>63.0</td>\n",
       "      <td>Mehrkorn</td>\n",
       "      <td>Schinken-Essiggurken</td>\n",
       "      <td>ja</td>\n",
       "    </tr>\n",
       "    <tr>\n",
       "      <th>7</th>\n",
       "      <td>59.0</td>\n",
       "      <td>Mehrkorn</td>\n",
       "      <td>Schinken-Essiggurken</td>\n",
       "      <td>nein</td>\n",
       "    </tr>\n",
       "    <tr>\n",
       "      <th>11</th>\n",
       "      <td>76.0</td>\n",
       "      <td>Mehrkorn</td>\n",
       "      <td>Schinken-Essiggurken</td>\n",
       "      <td>ja</td>\n",
       "    </tr>\n",
       "    <tr>\n",
       "      <th>14</th>\n",
       "      <td>26.0</td>\n",
       "      <td>Mehrkorn</td>\n",
       "      <td>Hefe-Brotaufstrich</td>\n",
       "      <td>ja</td>\n",
       "    </tr>\n",
       "    <tr>\n",
       "      <th>17</th>\n",
       "      <td>28.0</td>\n",
       "      <td>Mehrkorn</td>\n",
       "      <td>Hefe-Brotaufstrich</td>\n",
       "      <td>ja</td>\n",
       "    </tr>\n",
       "    <tr>\n",
       "      <th>20</th>\n",
       "      <td>38.0</td>\n",
       "      <td>Mehrkorn</td>\n",
       "      <td>Hefe-Brotaufstrich</td>\n",
       "      <td>nein</td>\n",
       "    </tr>\n",
       "    <tr>\n",
       "      <th>21</th>\n",
       "      <td>19.0</td>\n",
       "      <td>Mehrkorn</td>\n",
       "      <td>Erdnussbutter</td>\n",
       "      <td>nein</td>\n",
       "    </tr>\n",
       "    <tr>\n",
       "      <th>23</th>\n",
       "      <td>60.0</td>\n",
       "      <td>Mehrkorn</td>\n",
       "      <td>Erdnussbutter</td>\n",
       "      <td>ja</td>\n",
       "    </tr>\n",
       "    <tr>\n",
       "      <th>31</th>\n",
       "      <td>36.0</td>\n",
       "      <td>Mehrkorn</td>\n",
       "      <td>Schinken-Essiggurken</td>\n",
       "      <td>nein</td>\n",
       "    </tr>\n",
       "    <tr>\n",
       "      <th>35</th>\n",
       "      <td>22.0</td>\n",
       "      <td>Mehrkorn</td>\n",
       "      <td>Erdnussbutter</td>\n",
       "      <td>nein</td>\n",
       "    </tr>\n",
       "    <tr>\n",
       "      <th>43</th>\n",
       "      <td>42.0</td>\n",
       "      <td>Mehrkorn</td>\n",
       "      <td>Hefe-Brotaufstrich</td>\n",
       "      <td>nein</td>\n",
       "    </tr>\n",
       "  </tbody>\n",
       "</table>\n",
       "</div>"
      ],
      "text/plain": [
       "    Ameisen      Brot                 Belag Butter\n",
       "1      47.0  Mehrkorn         Erdnussbutter     ja\n",
       "3      63.0  Mehrkorn  Schinken-Essiggurken     ja\n",
       "7      59.0  Mehrkorn  Schinken-Essiggurken   nein\n",
       "11     76.0  Mehrkorn  Schinken-Essiggurken     ja\n",
       "14     26.0  Mehrkorn    Hefe-Brotaufstrich     ja\n",
       "17     28.0  Mehrkorn    Hefe-Brotaufstrich     ja\n",
       "20     38.0  Mehrkorn    Hefe-Brotaufstrich   nein\n",
       "21     19.0  Mehrkorn         Erdnussbutter   nein\n",
       "23     60.0  Mehrkorn         Erdnussbutter     ja\n",
       "31     36.0  Mehrkorn  Schinken-Essiggurken   nein\n",
       "35     22.0  Mehrkorn         Erdnussbutter   nein\n",
       "43     42.0  Mehrkorn    Hefe-Brotaufstrich   nein"
      ]
     },
     "execution_count": 8,
     "metadata": {},
     "output_type": "execute_result"
    }
   ],
   "source": [
    "df[df[\"Brot\"] == \"Mehrkorn\"]"
   ]
  },
  {
   "cell_type": "code",
   "execution_count": 9,
   "id": "c5c07a23-0f6a-4e6b-beb9-7878828a9323",
   "metadata": {},
   "outputs": [
    {
     "data": {
      "text/html": [
       "<div>\n",
       "<style scoped>\n",
       "    .dataframe tbody tr th:only-of-type {\n",
       "        vertical-align: middle;\n",
       "    }\n",
       "\n",
       "    .dataframe tbody tr th {\n",
       "        vertical-align: top;\n",
       "    }\n",
       "\n",
       "    .dataframe thead th {\n",
       "        text-align: right;\n",
       "    }\n",
       "</style>\n",
       "<table border=\"1\" class=\"dataframe\">\n",
       "  <thead>\n",
       "    <tr style=\"text-align: right;\">\n",
       "      <th></th>\n",
       "      <th>Ameisen</th>\n",
       "      <th>Brot</th>\n",
       "      <th>Belag</th>\n",
       "      <th>Butter</th>\n",
       "    </tr>\n",
       "  </thead>\n",
       "  <tbody>\n",
       "    <tr>\n",
       "      <th>2</th>\n",
       "      <td>67.0</td>\n",
       "      <td>Roggen</td>\n",
       "      <td>Schinken-Essiggurken</td>\n",
       "      <td>ja</td>\n",
       "    </tr>\n",
       "    <tr>\n",
       "      <th>8</th>\n",
       "      <td>65.0</td>\n",
       "      <td>Roggen</td>\n",
       "      <td>Schinken-Essiggurken</td>\n",
       "      <td>ja</td>\n",
       "    </tr>\n",
       "    <tr>\n",
       "      <th>9</th>\n",
       "      <td>18.0</td>\n",
       "      <td>Roggen</td>\n",
       "      <td>Hefe-Brotaufstrich</td>\n",
       "      <td>nein</td>\n",
       "    </tr>\n",
       "    <tr>\n",
       "      <th>13</th>\n",
       "      <td>31.0</td>\n",
       "      <td>Roggen</td>\n",
       "      <td>Hefe-Brotaufstrich</td>\n",
       "      <td>nein</td>\n",
       "    </tr>\n",
       "    <tr>\n",
       "      <th>19</th>\n",
       "      <td>54.0</td>\n",
       "      <td>Roggen</td>\n",
       "      <td>Schinken-Essiggurken</td>\n",
       "      <td>nein</td>\n",
       "    </tr>\n",
       "    <tr>\n",
       "      <th>25</th>\n",
       "      <td>48.0</td>\n",
       "      <td>Roggen</td>\n",
       "      <td>Erdnussbutter</td>\n",
       "      <td>nein</td>\n",
       "    </tr>\n",
       "    <tr>\n",
       "      <th>26</th>\n",
       "      <td>22.0</td>\n",
       "      <td>Roggen</td>\n",
       "      <td>Hefe-Brotaufstrich</td>\n",
       "      <td>ja</td>\n",
       "    </tr>\n",
       "    <tr>\n",
       "      <th>28</th>\n",
       "      <td>50.0</td>\n",
       "      <td>Roggen</td>\n",
       "      <td>Erdnussbutter</td>\n",
       "      <td>ja</td>\n",
       "    </tr>\n",
       "    <tr>\n",
       "      <th>29</th>\n",
       "      <td>45.0</td>\n",
       "      <td>Roggen</td>\n",
       "      <td>Hefe-Brotaufstrich</td>\n",
       "      <td>ja</td>\n",
       "    </tr>\n",
       "    <tr>\n",
       "      <th>30</th>\n",
       "      <td>36.0</td>\n",
       "      <td>Roggen</td>\n",
       "      <td>Erdnussbutter</td>\n",
       "      <td>nein</td>\n",
       "    </tr>\n",
       "    <tr>\n",
       "      <th>38</th>\n",
       "      <td>44.0</td>\n",
       "      <td>Roggen</td>\n",
       "      <td>Schinken-Essiggurken</td>\n",
       "      <td>nein</td>\n",
       "    </tr>\n",
       "    <tr>\n",
       "      <th>44</th>\n",
       "      <td>27.0</td>\n",
       "      <td>Roggen</td>\n",
       "      <td>Erdnussbutter</td>\n",
       "      <td>ja</td>\n",
       "    </tr>\n",
       "  </tbody>\n",
       "</table>\n",
       "</div>"
      ],
      "text/plain": [
       "    Ameisen    Brot                 Belag Butter\n",
       "2      67.0  Roggen  Schinken-Essiggurken     ja\n",
       "8      65.0  Roggen  Schinken-Essiggurken     ja\n",
       "9      18.0  Roggen    Hefe-Brotaufstrich   nein\n",
       "13     31.0  Roggen    Hefe-Brotaufstrich   nein\n",
       "19     54.0  Roggen  Schinken-Essiggurken   nein\n",
       "25     48.0  Roggen         Erdnussbutter   nein\n",
       "26     22.0  Roggen    Hefe-Brotaufstrich     ja\n",
       "28     50.0  Roggen         Erdnussbutter     ja\n",
       "29     45.0  Roggen    Hefe-Brotaufstrich     ja\n",
       "30     36.0  Roggen         Erdnussbutter   nein\n",
       "38     44.0  Roggen  Schinken-Essiggurken   nein\n",
       "44     27.0  Roggen         Erdnussbutter     ja"
      ]
     },
     "execution_count": 9,
     "metadata": {},
     "output_type": "execute_result"
    }
   ],
   "source": [
    "df[df[\"Brot\"] == \"Roggen\"]"
   ]
  },
  {
   "cell_type": "code",
   "execution_count": 30,
   "id": "5f64c2f9-6346-4675-9dad-4b1cfe710ff3",
   "metadata": {},
   "outputs": [
    {
     "name": "stdout",
     "output_type": "stream",
     "text": [
      "Butter\n",
      "ja      1173.0\n",
      "nein     915.0\n",
      "Name: Ameisen, dtype: float64\n"
     ]
    },
    {
     "name": "stderr",
     "output_type": "stream",
     "text": [
      "C:\\Users\\Dell Laptop\\AppData\\Local\\Temp\\ipykernel_7488\\1573995480.py:1: FutureWarning: The default of observed=False is deprecated and will be changed to True in a future version of pandas. Pass observed=False to retain current behavior or observed=True to adopt the future default and silence this warning.\n",
      "  Ameisen_Butter = df.groupby(\"Butter\")[\"Ameisen\"].sum()\n"
     ]
    }
   ],
   "source": [
    "Ameisen_Butter = df.groupby(\"Butter\")[\"Ameisen\"].sum()\n",
    "print(Ameisen_Butter)"
   ]
  },
  {
   "cell_type": "code",
   "execution_count": 31,
   "id": "81214cd2-a0cc-4651-aa8e-fab0a7943739",
   "metadata": {},
   "outputs": [
    {
     "name": "stdout",
     "output_type": "stream",
     "text": [
      "Butter\n",
      "ja      76.0\n",
      "nein    65.0\n",
      "Name: Ameisen, dtype: float64\n"
     ]
    },
    {
     "name": "stderr",
     "output_type": "stream",
     "text": [
      "C:\\Users\\Dell Laptop\\AppData\\Local\\Temp\\ipykernel_7488\\1634709659.py:1: FutureWarning: The default of observed=False is deprecated and will be changed to True in a future version of pandas. Pass observed=False to retain current behavior or observed=True to adopt the future default and silence this warning.\n",
      "  Ameisen_Butter = df.groupby(\"Butter\")[\"Ameisen\"].max()\n"
     ]
    }
   ],
   "source": [
    "Ameisen_Butter = df.groupby(\"Butter\")[\"Ameisen\"].max()\n",
    "print(Ameisen_Butter)"
   ]
  },
  {
   "cell_type": "code",
   "execution_count": 32,
   "id": "82cc62db-d47b-45d6-af9a-a4add336dda3",
   "metadata": {},
   "outputs": [
    {
     "name": "stdout",
     "output_type": "stream",
     "text": [
      "Butter\n",
      "ja      22.0\n",
      "nein    18.0\n",
      "Name: Ameisen, dtype: float64\n"
     ]
    },
    {
     "name": "stderr",
     "output_type": "stream",
     "text": [
      "C:\\Users\\Dell Laptop\\AppData\\Local\\Temp\\ipykernel_7488\\473964907.py:1: FutureWarning: The default of observed=False is deprecated and will be changed to True in a future version of pandas. Pass observed=False to retain current behavior or observed=True to adopt the future default and silence this warning.\n",
      "  Ameisen_Butter = df.groupby(\"Butter\")[\"Ameisen\"].min()\n"
     ]
    }
   ],
   "source": [
    "Ameisen_Butter = df.groupby(\"Butter\")[\"Ameisen\"].min()\n",
    "print(Ameisen_Butter)"
   ]
  },
  {
   "cell_type": "code",
   "execution_count": 33,
   "id": "4a3465eb-5e3a-4833-8f0a-0e94ce578285",
   "metadata": {},
   "outputs": [
    {
     "name": "stdout",
     "output_type": "stream",
     "text": [
      "Butter\n",
      "ja      48.875\n",
      "nein    38.125\n",
      "Name: Ameisen, dtype: float64\n"
     ]
    },
    {
     "name": "stderr",
     "output_type": "stream",
     "text": [
      "C:\\Users\\Dell Laptop\\AppData\\Local\\Temp\\ipykernel_7488\\3020691660.py:1: FutureWarning: The default of observed=False is deprecated and will be changed to True in a future version of pandas. Pass observed=False to retain current behavior or observed=True to adopt the future default and silence this warning.\n",
      "  Ameisen_Butter = df.groupby(\"Butter\")[\"Ameisen\"].mean()\n"
     ]
    }
   ],
   "source": [
    "Ameisen_Butter = df.groupby(\"Butter\")[\"Ameisen\"].mean()\n",
    "print(Ameisen_Butter)"
   ]
  },
  {
   "cell_type": "code",
   "execution_count": 34,
   "id": "3a36e753-8113-482d-8e72-f3987ee910dd",
   "metadata": {},
   "outputs": [
    {
     "name": "stdout",
     "output_type": "stream",
     "text": [
      "Butter\n",
      "ja      49.0\n",
      "nein    37.0\n",
      "Name: Ameisen, dtype: float64\n"
     ]
    },
    {
     "name": "stderr",
     "output_type": "stream",
     "text": [
      "C:\\Users\\Dell Laptop\\AppData\\Local\\Temp\\ipykernel_7488\\2925941621.py:1: FutureWarning: The default of observed=False is deprecated and will be changed to True in a future version of pandas. Pass observed=False to retain current behavior or observed=True to adopt the future default and silence this warning.\n",
      "  Ameisen_Butter = df.groupby(\"Butter\")[\"Ameisen\"].median()\n"
     ]
    }
   ],
   "source": [
    "Ameisen_Butter = df.groupby(\"Butter\")[\"Ameisen\"].median()\n",
    "print(Ameisen_Butter)"
   ]
  },
  {
   "cell_type": "code",
   "execution_count": 35,
   "id": "0029ad05-fb77-4f66-9925-fe1fb4645307",
   "metadata": {},
   "outputs": [
    {
     "name": "stdout",
     "output_type": "stream",
     "text": [
      "Butter\n",
      "ja      14.513300\n",
      "nein    14.072213\n",
      "Name: Ameisen, dtype: float64\n"
     ]
    },
    {
     "name": "stderr",
     "output_type": "stream",
     "text": [
      "C:\\Users\\Dell Laptop\\AppData\\Local\\Temp\\ipykernel_7488\\2809792885.py:1: FutureWarning: The default of observed=False is deprecated and will be changed to True in a future version of pandas. Pass observed=False to retain current behavior or observed=True to adopt the future default and silence this warning.\n",
      "  Ameisen_Butter = df.groupby(\"Butter\")[\"Ameisen\"].std()\n"
     ]
    }
   ],
   "source": [
    "Ameisen_Butter = df.groupby(\"Butter\")[\"Ameisen\"].std()\n",
    "print(Ameisen_Butter)"
   ]
  },
  {
   "cell_type": "markdown",
   "id": "bf789d1d-c63f-487a-9153-8322e3bcd90f",
   "metadata": {},
   "source": [
    "# Levene's Test - to check Homogeneity of Variance"
   ]
  },
  {
   "cell_type": "code",
   "execution_count": 66,
   "id": "e1743f67-8934-434d-9770-2e4cdc6c0092",
   "metadata": {},
   "outputs": [
    {
     "name": "stdout",
     "output_type": "stream",
     "text": [
      "Levene's test for homogeneity of variances (Brot):\n",
      "LeveneResult(statistic=0.5266017592551805, pvalue=0.6663192138106316)\n"
     ]
    }
   ],
   "source": [
    "# Extract data for each type of bread\n",
    "wholegrain = df[df['Brot'] == 'Vollkorn']['Ameisen']\n",
    "multigrain = df[df['Brot'] == 'Mehrkorn']['Ameisen']\n",
    "rye = df[df['Brot'] == 'Roggen']['Ameisen']\n",
    "white_bread = df[df['Brot'] == 'Weiß']['Ameisen']\n",
    "\n",
    "# Perform Levene's test\n",
    "levene_test_brot = levene(wholegrain, multigrain, rye, white_bread)\n",
    "\n",
    "# Print the result\n",
    "print(\"Levene's test for homogeneity of variances (Brot):\")\n",
    "print(levene_test_brot)"
   ]
  },
  {
   "cell_type": "code",
   "execution_count": 67,
   "id": "ac05086e-db87-4126-84ad-51e3331994c1",
   "metadata": {},
   "outputs": [
    {
     "name": "stdout",
     "output_type": "stream",
     "text": [
      "Levene's test for homogeneity of variances (Belag):\n",
      "LeveneResult(statistic=0.6345064949483735, pvalue=0.5348737286294802)\n"
     ]
    }
   ],
   "source": [
    "# Extract data for each type of topping\n",
    "ham_pickles = df[df['Belag'] == 'Schinken-Essiggurken']['Ameisen']\n",
    "peanut_butter = df[df['Belag'] == 'Erdnussbutter']['Ameisen']\n",
    "yeast_spread = df[df['Belag'] == 'Hefe-Brotaufstrich']['Ameisen']\n",
    "\n",
    "# Perform Levene's test\n",
    "levene_test_belag = levene(ham_pickles, peanut_butter, yeast_spread)\n",
    "\n",
    "# Print the result\n",
    "print(\"Levene's test for homogeneity of variances (Belag):\")\n",
    "print(levene_test_belag)"
   ]
  },
  {
   "cell_type": "code",
   "execution_count": 68,
   "id": "0d7f11db-d404-48a4-9ef5-50f7c0d69aa1",
   "metadata": {},
   "outputs": [
    {
     "name": "stdout",
     "output_type": "stream",
     "text": [
      "Levene's test for homogeneity of variances (Butter):\n",
      "LeveneResult(statistic=0.0014152539765560303, pvalue=0.9701535633952737)\n"
     ]
    }
   ],
   "source": [
    "# Extract data for each presence of butter\n",
    "butter_yes = df[df['Butter'] == 'ja']['Ameisen']\n",
    "butter_no = df[df['Butter'] == 'nein']['Ameisen']\n",
    "\n",
    "# Perform Levene's test\n",
    "levene_test_butter = levene(butter_yes, butter_no)\n",
    "\n",
    "# Print the result\n",
    "print(\"Levene's test for homogeneity of variances (Butter):\")\n",
    "print(levene_test_butter)"
   ]
  },
  {
   "cell_type": "markdown",
   "id": "d9e7f3ab-1bbf-48be-8361-34e0b6fb1957",
   "metadata": {},
   "source": [
    "## Shapiro-Wilk Test: to check if sample is normally distributed"
   ]
  },
  {
   "cell_type": "code",
   "execution_count": 74,
   "id": "1656db7d-1e31-4944-b4b0-8913745dc1eb",
   "metadata": {},
   "outputs": [
    {
     "name": "stdout",
     "output_type": "stream",
     "text": [
      "Shapiro-Wilk test for normality (Brot - Vollkorn): ShapiroResult(statistic=0.9621669054031372, pvalue=0.8142618536949158)\n",
      "Shapiro-Wilk test for normality (Brot - Mehrkorn): ShapiroResult(statistic=0.9481497406959534, pvalue=0.6101117730140686)\n",
      "Shapiro-Wilk test for normality (Brot - Roggen): ShapiroResult(statistic=0.9623937606811523, pvalue=0.8173815608024597)\n",
      "Shapiro-Wilk test for normality (Brot - Weiß): ShapiroResult(statistic=0.9283087849617004, pvalue=0.36253097653388977)\n"
     ]
    }
   ],
   "source": [
    "# Perform Shapiro-Wilk test for each type of bread\n",
    "shapiro_vollkorn = shapiro(df[df['Brot'] == 'Vollkorn']['Ameisen'])\n",
    "shapiro_mehrkorn = shapiro(df[df['Brot'] == 'Mehrkorn']['Ameisen'])\n",
    "shapiro_roggen = shapiro(df[df['Brot'] == 'Roggen']['Ameisen'])\n",
    "shapiro_weiss = shapiro(df[df['Brot'] == 'Weiß']['Ameisen'])\n",
    "\n",
    "# Print the results\n",
    "print(\"Shapiro-Wilk test for normality (Brot - Vollkorn):\", shapiro_vollkorn)\n",
    "print(\"Shapiro-Wilk test for normality (Brot - Mehrkorn):\", shapiro_mehrkorn)\n",
    "print(\"Shapiro-Wilk test for normality (Brot - Roggen):\", shapiro_roggen)\n",
    "print(\"Shapiro-Wilk test for normality (Brot - Weiß):\", shapiro_weiss)\n"
   ]
  },
  {
   "cell_type": "code",
   "execution_count": 77,
   "id": "76be06da-39b3-451a-96c1-f11439bbc1e4",
   "metadata": {},
   "outputs": [
    {
     "name": "stdout",
     "output_type": "stream",
     "text": [
      "Shapiro-Wilk test for normality (Belag - Schinken-Essiggurken): ShapiroResult(statistic=0.953456461429596, pvalue=0.5463434457778931)\n",
      "Shapiro-Wilk test for normality (Belag - Erdnussbutter): ShapiroResult(statistic=0.9159474968910217, pvalue=0.1451340615749359)\n",
      "Shapiro-Wilk test for normality (Belag - Hefe-Brotaufstrich): ShapiroResult(statistic=0.9539344906806946, pvalue=0.5544585585594177)\n"
     ]
    }
   ],
   "source": [
    "# Perform Shapiro-Wilk test for each type of topping\n",
    "shapiro_ham_pickles = shapiro(df[df['Belag'] == 'Schinken-Essiggurken']['Ameisen'])\n",
    "shapiro_peanut_butter = shapiro(df[df['Belag'] == 'Erdnussbutter']['Ameisen'])\n",
    "shapiro_yeast_spread = shapiro(df[df['Belag'] == 'Hefe-Brotaufstrich']['Ameisen'])\n",
    "\n",
    "# Print the results\n",
    "print(\"Shapiro-Wilk test for normality (Belag - Schinken-Essiggurken):\", shapiro_ham_pickles)\n",
    "print(\"Shapiro-Wilk test for normality (Belag - Erdnussbutter):\", shapiro_peanut_butter)\n",
    "print(\"Shapiro-Wilk test for normality (Belag - Hefe-Brotaufstrich):\", shapiro_yeast_spread)\n"
   ]
  },
  {
   "cell_type": "code",
   "execution_count": 78,
   "id": "e7ce9044-10d5-4582-9d65-68a1636a1026",
   "metadata": {},
   "outputs": [
    {
     "name": "stdout",
     "output_type": "stream",
     "text": [
      "Shapiro-Wilk test for normality (Butter - yes): ShapiroResult(statistic=0.9700352549552917, pvalue=0.66785728931427)\n",
      "Shapiro-Wilk test for normality (Butter - no): ShapiroResult(statistic=0.951735258102417, pvalue=0.29531216621398926)\n"
     ]
    }
   ],
   "source": [
    "# Perform Shapiro-Wilk test for each presence of butter\n",
    "shapiro_butter_yes = shapiro(df[df['Butter'] == 'ja']['Ameisen'])\n",
    "shapiro_butter_no = shapiro(df[df['Butter'] == 'nein']['Ameisen'])\n",
    "\n",
    "# Print the results\n",
    "print(\"Shapiro-Wilk test for normality (Butter - yes):\", shapiro_butter_yes)\n",
    "print(\"Shapiro-Wilk test for normality (Butter - no):\", shapiro_butter_no)\n"
   ]
  },
  {
   "cell_type": "markdown",
   "id": "7da1e69a-8588-4917-9313-494289169ac0",
   "metadata": {
    "scrolled": true
   },
   "source": [
    "## Chi-square : to check independence between variables"
   ]
  },
  {
   "cell_type": "code",
   "execution_count": 81,
   "id": "e3c9fdc3-28dc-43cf-b7f2-9f58b72df697",
   "metadata": {},
   "outputs": [
    {
     "name": "stdout",
     "output_type": "stream",
     "text": [
      "Chi-squared test result for Brot and Belag:\n",
      "Chi-squared statistic: 0.0\n",
      "p-value: 1.0\n",
      "Degrees of freedom: 6\n"
     ]
    }
   ],
   "source": [
    "# Contingency table for Brot and Belag\n",
    "contingency_table_brot_belag = pd.crosstab(df['Brot'], df['Belag'])\n",
    "\n",
    "# Perform chi-squared test of independence\n",
    "chi2_brot_belag, p_brot_belag, dof_brot_belag, expected_brot_belag = chi2_contingency(contingency_table_brot_belag)\n",
    "\n",
    "# Print the result\n",
    "print(\"Chi-squared test result for Brot and Belag:\")\n",
    "print(\"Chi-squared statistic:\", chi2_brot_belag)\n",
    "print(\"p-value:\", p_brot_belag)\n",
    "print(\"Degrees of freedom:\", dof_brot_belag)\n"
   ]
  },
  {
   "cell_type": "code",
   "execution_count": 82,
   "id": "18f3e916-4f76-436b-ac40-84a4a6bbb202",
   "metadata": {},
   "outputs": [
    {
     "name": "stdout",
     "output_type": "stream",
     "text": [
      "\n",
      "Chi-squared test result for Brot and Butter:\n",
      "Chi-squared statistic: 0.0\n",
      "p-value: 1.0\n",
      "Degrees of freedom: 3\n"
     ]
    }
   ],
   "source": [
    "# Contingency table for Brot and Butter\n",
    "contingency_table_brot_butter = pd.crosstab(df['Brot'], df['Butter'])\n",
    "\n",
    "# Perform chi-squared test of independence\n",
    "chi2_brot_butter, p_brot_butter, dof_brot_butter, expected_brot_butter = chi2_contingency(contingency_table_brot_butter)\n",
    "\n",
    "# Print the result\n",
    "print(\"\\nChi-squared test result for Brot and Butter:\")\n",
    "print(\"Chi-squared statistic:\", chi2_brot_butter)\n",
    "print(\"p-value:\", p_brot_butter)\n",
    "print(\"Degrees of freedom:\", dof_brot_butter)"
   ]
  },
  {
   "cell_type": "code",
   "execution_count": 83,
   "id": "d39ad19c-13ca-415a-9a4c-25110f4535f9",
   "metadata": {},
   "outputs": [
    {
     "name": "stdout",
     "output_type": "stream",
     "text": [
      "\n",
      "Chi-squared test result for Belag and Butter:\n",
      "Chi-squared statistic: 0.0\n",
      "p-value: 1.0\n",
      "Degrees of freedom: 2\n"
     ]
    }
   ],
   "source": [
    "# Contingency table for Belag and Butter\n",
    "contingency_table_belag_butter = pd.crosstab(df['Belag'], df['Butter'])\n",
    "\n",
    "# Perform chi-squared test of independence\n",
    "chi2_belag_butter, p_belag_butter, dof_belag_butter, expected_belag_butter = chi2_contingency(contingency_table_belag_butter)\n",
    "\n",
    "# Print the result\n",
    "print(\"\\nChi-squared test result for Belag and Butter:\")\n",
    "print(\"Chi-squared statistic:\", chi2_belag_butter)\n",
    "print(\"p-value:\", p_belag_butter)\n",
    "print(\"Degrees of freedom:\", dof_belag_butter)\n"
   ]
  },
  {
   "cell_type": "markdown",
   "id": "7502bc1e-1d78-4f36-b84f-43a91586b28e",
   "metadata": {},
   "source": [
    "## Anova (one-way)"
   ]
  },
  {
   "cell_type": "code",
   "execution_count": 69,
   "id": "a1b0dfab-209e-4b18-9257-73228b753765",
   "metadata": {},
   "outputs": [
    {
     "name": "stdout",
     "output_type": "stream",
     "text": [
      "ANOVA for different types of bread:\n",
      "F_onewayResult(statistic=0.05527895398073612, pvalue=0.9826739036390482)\n"
     ]
    }
   ],
   "source": [
    "# Test whether the number of ants attracted differs with respect to different types of bread\n",
    "bread_anova = f_oneway(df[df['Brot'] == 'Vollkorn']['Ameisen'],\n",
    "                       df[df['Brot'] == 'Mehrkorn']['Ameisen'],\n",
    "                       df[df['Brot'] == 'Roggen']['Ameisen'],\n",
    "                       df[df['Brot'] == 'Weiß']['Ameisen'])\n",
    "print(\"ANOVA for different types of bread:\")\n",
    "print(bread_anova)"
   ]
  },
  {
   "cell_type": "code",
   "execution_count": 71,
   "id": "5fd5499c-aaac-46e7-b3b4-55215eec774d",
   "metadata": {},
   "outputs": [
    {
     "name": "stdout",
     "output_type": "stream",
     "text": [
      "ANOVA for different types of toppings:\n",
      "F_onewayResult(statistic=11.84788762295662, pvalue=7.351160543218634e-05)\n"
     ]
    }
   ],
   "source": [
    "# Test whether the number of ants attracted differs with respect to different types of toppings\n",
    "toppings_anova = f_oneway(df[df['Belag'] == 'Schinken-Essiggurken']['Ameisen'],\n",
    "                       df[df['Belag'] == 'Erdnussbutter']['Ameisen'],\n",
    "                       df[df['Belag'] == 'Hefe-Brotaufstrich']['Ameisen'])\n",
    "print(\"ANOVA for different types of toppings:\")\n",
    "print(toppings_anova)"
   ]
  },
  {
   "cell_type": "code",
   "execution_count": 72,
   "id": "86efcfd6-ce40-498c-b325-c3d626a631c9",
   "metadata": {},
   "outputs": [
    {
     "name": "stdout",
     "output_type": "stream",
     "text": [
      "ANOVA for presence of butter on the sandwich:\n",
      "F_onewayResult(statistic=6.786764901454903, pvalue=0.012329670074703938)\n"
     ]
    }
   ],
   "source": [
    "# Perform ANOVA for 'Butter'\n",
    "butter_anova = f_oneway(df[df['Butter'] == 'ja']['Ameisen'],\n",
    "                        df[df['Butter'] == 'nein']['Ameisen'])\n",
    "\n",
    "# Print the result\n",
    "print(\"ANOVA for presence of butter on the sandwich:\")\n",
    "print(butter_anova)"
   ]
  },
  {
   "cell_type": "markdown",
   "id": "9da1d1d2-bc22-4c0a-91b7-090a42cc8b16",
   "metadata": {},
   "source": [
    "## ANOVA (two way)"
   ]
  },
  {
   "cell_type": "code",
   "execution_count": 85,
   "id": "bca118c0-d7d9-4d4f-aae4-1add84b04d9a",
   "metadata": {},
   "outputs": [
    {
     "name": "stdout",
     "output_type": "stream",
     "text": [
      "                  sum_sq    df          F    PR(>F)\n",
      "C(Brot)             40.5   3.0   0.075372  0.972862\n",
      "C(Belag)          3720.5   2.0  10.386011  0.000275\n",
      "C(Brot):C(Belag)   577.0   6.0   0.536911  0.776545\n",
      "Residual          6448.0  36.0        NaN       NaN\n"
     ]
    }
   ],
   "source": [
    "# Fit the two-way ANOVA model\n",
    "model = ols('Ameisen ~ C(Brot) + C(Belag) + C(Brot):C(Belag)', data=df).fit()\n",
    "\n",
    "# Perform ANOVA table\n",
    "anova_table = sm.stats.anova_lm(model, typ=2)\n",
    "\n",
    "# Print the ANOVA table\n",
    "print(anova_table)"
   ]
  },
  {
   "cell_type": "code",
   "execution_count": 86,
   "id": "db0e317b-030e-4989-b986-cd0dd3696327",
   "metadata": {},
   "outputs": [
    {
     "name": "stdout",
     "output_type": "stream",
     "text": [
      "ANOVA table for Brot and Butter:\n",
      "                    sum_sq    df         F    PR(>F)\n",
      "C(Brot)              40.50   3.0  0.060134  0.980407\n",
      "C(Butter)          1386.75   1.0  6.177060  0.017222\n",
      "C(Brot):C(Butter)   378.75   3.0  0.562361  0.642987\n",
      "Residual           8980.00  40.0       NaN       NaN\n"
     ]
    }
   ],
   "source": [
    "# Fit the two-way ANOVA model for Brot and Butter\n",
    "model_brot_butter = ols('Ameisen ~ C(Brot) + C(Butter) + C(Brot):C(Butter)', data=df).fit()\n",
    "\n",
    "# Perform ANOVA table\n",
    "anova_table_brot_butter = sm.stats.anova_lm(model_brot_butter, typ=2)\n",
    "\n",
    "# Print the ANOVA table\n",
    "print(\"ANOVA table for Brot and Butter:\")\n",
    "print(anova_table_brot_butter)\n"
   ]
  },
  {
   "cell_type": "code",
   "execution_count": 87,
   "id": "f01d4e8c-4884-4362-9707-35b6d9af19eb",
   "metadata": {},
   "outputs": [
    {
     "name": "stdout",
     "output_type": "stream",
     "text": [
      "\n",
      "ANOVA table for Belag and Butter:\n",
      "                     sum_sq    df          F    PR(>F)\n",
      "C(Belag)            3720.50   2.0  13.895425  0.000023\n",
      "C(Butter)           1386.75   1.0  10.358543  0.002486\n",
      "C(Belag):C(Butter)    56.00   2.0   0.209150  0.812113\n",
      "Residual            5622.75  42.0        NaN       NaN\n"
     ]
    }
   ],
   "source": [
    "# Fit the two-way ANOVA model for Belag and Butter\n",
    "model_belag_butter = ols('Ameisen ~ C(Belag) + C(Butter) + C(Belag):C(Butter)', data=df).fit()\n",
    "\n",
    "# Perform ANOVA table\n",
    "anova_table_belag_butter = sm.stats.anova_lm(model_belag_butter, typ=2)\n",
    "\n",
    "# Print the ANOVA table\n",
    "print(\"\\nANOVA table for Belag and Butter:\")\n",
    "print(anova_table_belag_butter)\n"
   ]
  },
  {
   "cell_type": "markdown",
   "id": "b441ac7e-7123-4b13-9c48-92226c9d899e",
   "metadata": {},
   "source": [
    "## Tukey's HSD"
   ]
  },
  {
   "cell_type": "code",
   "execution_count": 92,
   "id": "0aad9d24-02d0-4559-a8e9-8aca930b73cc",
   "metadata": {},
   "outputs": [
    {
     "name": "stdout",
     "output_type": "stream",
     "text": [
      "Tukey HSD test results for Brot (bread):\n",
      "   Multiple Comparison of Means - Tukey HSD, FWER=0.05   \n",
      "=========================================================\n",
      " group1   group2  meandiff p-adj   lower    upper  reject\n",
      "---------------------------------------------------------\n",
      "Mehrkorn   Roggen    -0.75 0.9994 -17.7843 16.2843  False\n",
      "Mehrkorn Vollkorn     1.25 0.9973 -15.7843 18.2843  False\n",
      "Mehrkorn     Weiß      1.5 0.9954 -15.5343 18.5343  False\n",
      "  Roggen Vollkorn      2.0 0.9892 -15.0343 19.0343  False\n",
      "  Roggen     Weiß     2.25 0.9848 -14.7843 19.2843  False\n",
      "Vollkorn     Weiß     0.25    1.0 -16.7843 17.2843  False\n",
      "---------------------------------------------------------\n"
     ]
    }
   ],
   "source": [
    "# Perform Tukey's HSD test for 'Brot' (bread)\n",
    "tukey_brot = pairwise_tukeyhsd(endog=df['Ameisen'], groups=df['Brot'], alpha=0.05)\n",
    "\n",
    "# Print the summary table\n",
    "print(\"Tukey HSD test results for Brot (bread):\")\n",
    "print(tukey_brot.summary())"
   ]
  },
  {
   "cell_type": "code",
   "execution_count": 90,
   "id": "06eef204-7b61-4dfb-9fd4-ff95cd21ee13",
   "metadata": {},
   "outputs": [
    {
     "name": "stdout",
     "output_type": "stream",
     "text": [
      "Tukey HSD test results for Belag (toppings):\n",
      "             Multiple Comparison of Means - Tukey HSD, FWER=0.05             \n",
      "=============================================================================\n",
      "      group1              group2        meandiff p-adj   lower  upper  reject\n",
      "-----------------------------------------------------------------------------\n",
      "     Erdnussbutter   Hefe-Brotaufstrich    -5.75 0.4037 -16.487  4.987  False\n",
      "     Erdnussbutter Schinken-Essiggurken   15.125 0.0038   4.388 25.862   True\n",
      "Hefe-Brotaufstrich Schinken-Essiggurken   20.875 0.0001  10.138 31.612   True\n",
      "-----------------------------------------------------------------------------\n"
     ]
    }
   ],
   "source": [
    "# Perform Tukey's HSD test for 'Belag' (toppings)\n",
    "tukey_belag = pairwise_tukeyhsd(endog=df['Ameisen'], groups=df['Belag'], alpha=0.05)\n",
    "\n",
    "# Print the summary table\n",
    "print(\"Tukey HSD test results for Belag (toppings):\")\n",
    "print(tukey_belag.summary())"
   ]
  },
  {
   "cell_type": "code",
   "execution_count": 91,
   "id": "e09c77a6-1ba0-4a6c-a906-a674d25b5c3f",
   "metadata": {},
   "outputs": [
    {
     "name": "stdout",
     "output_type": "stream",
     "text": [
      "\n",
      "Tukey HSD test results for Butter:\n",
      " Multiple Comparison of Means - Tukey HSD, FWER=0.05 \n",
      "=====================================================\n",
      "group1 group2 meandiff p-adj   lower    upper  reject\n",
      "-----------------------------------------------------\n",
      "    ja   nein   -10.75 0.0123 -19.0561 -2.4439   True\n",
      "-----------------------------------------------------\n"
     ]
    }
   ],
   "source": [
    "# Perform Tukey's HSD test for 'Butter'\n",
    "tukey_butter = pairwise_tukeyhsd(endog=df['Ameisen'], groups=df['Butter'], alpha=0.05)\n",
    "\n",
    "# Print the summary table\n",
    "print(\"\\nTukey HSD test results for Butter:\")\n",
    "print(tukey_butter.summary())\n"
   ]
  }
 ],
 "metadata": {
  "kernelspec": {
   "display_name": "Python 3 (ipykernel)",
   "language": "python",
   "name": "python3"
  },
  "language_info": {
   "codemirror_mode": {
    "name": "ipython",
    "version": 3
   },
   "file_extension": ".py",
   "mimetype": "text/x-python",
   "name": "python",
   "nbconvert_exporter": "python",
   "pygments_lexer": "ipython3",
   "version": "3.11.7"
  }
 },
 "nbformat": 4,
 "nbformat_minor": 5
}
